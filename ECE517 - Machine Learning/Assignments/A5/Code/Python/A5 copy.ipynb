{
 "cells": [
  {
   "cell_type": "code",
   "execution_count": null,
   "metadata": {},
   "outputs": [],
   "source": [
    "import pandas as pd\n",
    "from sklearn.svm import SVR\n",
    "import numpy as np\n",
    "import matplotlib.pyplot as plt\n",
    "\n",
    "df = pd.read_csv(\"data.csv\",header =None,index_col=None)\n",
    "df1 = df.iloc[:,0:2] # Remember that Python does not slice inclusive of the ending index.\n",
    "ftest = df.iloc[:,0]\n",
    "ftrain = df.iloc[:,1]\n",
    "Xtest = df.iloc[:,2:20]\n",
    "Xtrain = df.iloc[:,21:39]\n",
    "ytest = df.iloc[:,40]\n",
    "ytrain = df.iloc[:,41]\n",
    "\n",
    "#print(df)\n",
    "#a = df[0;3]\n",
    "#print(df1)\n",
    "#Xtrain = df\n",
    "clf = SVR(gamma = 'scale', C = 1., epsilon = 0.2)\n",
    "regr = clf.fit(Xtrain,ytrain)\n",
    "pred = clf.predict(Xtest)\n",
    "plt.plot(pred)\n",
    "plt.show()"
   ]
  },
  {
   "cell_type": "code",
   "execution_count": 3,
   "metadata": {},
   "outputs": [
    {
     "ename": "TypeError",
     "evalue": "validation_curve() takes 3 positional arguments but 5 positional arguments (and 1 keyword-only argument) were given",
     "output_type": "error",
     "traceback": [
      "\u001b[0;31m---------------------------------------------------------------------------\u001b[0m",
      "\u001b[0;31mTypeError\u001b[0m                                 Traceback (most recent call last)",
      "\u001b[0;32m/var/folders/n2/cbk7g_bd0wv08dckd4_tnhwr0000gn/T/ipykernel_2229/1843515487.py\u001b[0m in \u001b[0;36m<module>\u001b[0;34m\u001b[0m\n\u001b[1;32m     33\u001b[0m \u001b[0mnp\u001b[0m\u001b[0;34m.\u001b[0m\u001b[0mrandom\u001b[0m\u001b[0;34m.\u001b[0m\u001b[0mshuffle\u001b[0m\u001b[0;34m(\u001b[0m\u001b[0mtemp\u001b[0m\u001b[0;34m)\u001b[0m\u001b[0;34m\u001b[0m\u001b[0;34m\u001b[0m\u001b[0m\n\u001b[1;32m     34\u001b[0m \u001b[0mXtrain\u001b[0m\u001b[0;34m,\u001b[0m\u001b[0mytrain\u001b[0m\u001b[0;34m=\u001b[0m\u001b[0mXtrain\u001b[0m\u001b[0;34m[\u001b[0m\u001b[0mtemp\u001b[0m\u001b[0;34m]\u001b[0m\u001b[0;34m,\u001b[0m\u001b[0mytrain\u001b[0m\u001b[0;34m[\u001b[0m\u001b[0mtemp\u001b[0m\u001b[0;34m]\u001b[0m\u001b[0;34m\u001b[0m\u001b[0;34m\u001b[0m\u001b[0m\n\u001b[0;32m---> 35\u001b[0;31m \u001b[0mtrain_score\u001b[0m\u001b[0;34m,\u001b[0m\u001b[0mvalid_score\u001b[0m\u001b[0;34m=\u001b[0m \u001b[0mvalidation_curve\u001b[0m\u001b[0;34m(\u001b[0m\u001b[0mSVR\u001b[0m\u001b[0;34m(\u001b[0m\u001b[0;34m)\u001b[0m\u001b[0;34m,\u001b[0m\u001b[0mXtrain\u001b[0m\u001b[0;34m,\u001b[0m\u001b[0mytrain\u001b[0m\u001b[0;34m,\u001b[0m\u001b[0;34m\"gamma\"\u001b[0m\u001b[0;34m,\u001b[0m\u001b[0mnp\u001b[0m\u001b[0;34m.\u001b[0m\u001b[0mlogspace\u001b[0m\u001b[0;34m(\u001b[0m\u001b[0;34m-\u001b[0m\u001b[0;36m1\u001b[0m\u001b[0;34m,\u001b[0m\u001b[0;36m3\u001b[0m\u001b[0;34m,\u001b[0m\u001b[0;36m3\u001b[0m\u001b[0;34m)\u001b[0m\u001b[0;34m,\u001b[0m\u001b[0mcv\u001b[0m\u001b[0;34m=\u001b[0m\u001b[0;36m7\u001b[0m\u001b[0;34m)\u001b[0m\u001b[0;34m\u001b[0m\u001b[0;34m\u001b[0m\u001b[0m\n\u001b[0m\u001b[1;32m     36\u001b[0m \u001b[0;31m#print(train_score)\u001b[0m\u001b[0;34m\u001b[0m\u001b[0;34m\u001b[0m\u001b[0m\n\u001b[1;32m     37\u001b[0m \u001b[0;31m#print(valid_score)\u001b[0m\u001b[0;34m\u001b[0m\u001b[0;34m\u001b[0m\u001b[0m\n",
      "\u001b[0;31mTypeError\u001b[0m: validation_curve() takes 3 positional arguments but 5 positional arguments (and 1 keyword-only argument) were given"
     ]
    }
   ],
   "source": [
    "import pandas as pd\n",
    "from sklearn.svm import SVR\n",
    "import numpy as np\n",
    "import matplotlib.pyplot as plt\n",
    "from sklearn.linear_model import Ridge\n",
    "import numpy as np\n",
    "from sklearn.svm import SVR\n",
    "from sklearn.model_selection import cross_validate\n",
    "from sklearn.model_selection import cross_val_score\n",
    "from sklearn.model_selection import validation_curve\n",
    "\n",
    "\n",
    "csv = np.genfromtxt (\"data.csv\", delimiter=\",\")\n",
    "ftest = csv[:,0]\n",
    "ftrain= csv[:,1]\n",
    "Xtest=csv[:,2:21]\n",
    "Xtrain=csv[:,21:40]\n",
    "ytest=csv[:,40]\n",
    "ytrain=csv[:,41]\n",
    "\n",
    "#classifier = Ridge(alpha=1.5)\n",
    "classifier=SVR(gamma='scale', C=1.5, epsilon=0.2)\n",
    "classifier.fit(Xtrain,ytrain)\n",
    "prediction=classifier.predict(Xtest)\n",
    "sqerror = (prediction-ytest)**2\n",
    "meansquareerror=np.mean((prediction-ytest)**2)\n",
    "# print(meansquareerror)\n",
    "score=cross_validate(classifier,Xtrain,ytrain,scoring='neg_mean_squared_error',cv=15,return_train_score=False)\n",
    "# print(score)\n",
    "accuracy=cross_val_score(estimator=classifier,X=Xtrain,y=ytrain,cv=10)\n",
    "np.random.seed(0)\n",
    "temp=np.arange(ytrain.shape[0])\n",
    "np.random.shuffle(temp)\n",
    "Xtrain,ytrain=Xtrain[temp],ytrain[temp]\n",
    "train_score,valid_score= validation_curve(SVR(),Xtrain,ytrain,\"gamma\",np.logspace(-1,3,3),cv=7)\n",
    "#print(train_score)\n",
    "#print(valid_score)\n",
    "#print(prediction)\n",
    "plt.plot(prediction)\n",
    "# plt.show()\n",
    "\n",
    "plt.plot(ytest)\n",
    "plt.legend(['Prediction','Real'])\n",
    "plt.savefig('SVR_prediction.png')\n",
    "plt.show()\n",
    "# plt.plot(prediction)\n",
    "# plt.plot(ytest)\n",
    "# plt.show()\n",
    "print(valid_score)\n",
    "plt.plot(valid_score)\n",
    "plt.legend(['Valid Score'])\n",
    "plt.savefig('SVR_validation.png')\n",
    "plt.show()\n",
    "# plt.show()\n",
    "# print(score)\n",
    "#print(score)\n",
    "#print(prediction)\n",
    "#print(train_score) #15 datas\n",
    "#print(valid_score) #15 datas\n",
    "# plt.plot(ytest)\n",
    "# plt.show()\n",
    "\n",
    "# print((prediction))\n",
    "plt.plot(sqerror)\n",
    "plt.legend(['Squared Error'])\n",
    "plt.savefig('SVR_squarederror.png')\n",
    "plt.show()\n"
   ]
  }
 ],
 "metadata": {
  "interpreter": {
   "hash": "a5203b99a4aae64bb8f2d1e38b09bc6de956cbb67603af2b36e9f2835c9586bb"
  },
  "kernelspec": {
   "display_name": "Python 3.9.7 64-bit ('base': conda)",
   "name": "python3"
  },
  "language_info": {
   "codemirror_mode": {
    "name": "ipython",
    "version": 3
   },
   "file_extension": ".py",
   "mimetype": "text/x-python",
   "name": "python",
   "nbconvert_exporter": "python",
   "pygments_lexer": "ipython3",
   "version": "3.9.7"
  },
  "orig_nbformat": 2
 },
 "nbformat": 4,
 "nbformat_minor": 2
}
