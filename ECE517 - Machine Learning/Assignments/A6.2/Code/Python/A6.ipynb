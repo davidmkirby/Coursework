{
 "cells": [
  {
   "cell_type": "code",
   "execution_count": 15,
   "metadata": {},
   "outputs": [
    {
     "data": {
      "image/png": "[encoded data removed]",
      "text/plain": [
       "<Figure size 432x288 with 1 Axes>"
      ]
     },
     "metadata": {
      "needs_background": "light"
     },
     "output_type": "display_data"
    }
   ],
   "source": [
    "import numpy as np\n",
    "import scipy.signal as sp # signal processing tools\n",
    "import matplotlib.pyplot as plt \n",
    "def data(N,a):\n",
    "    N=N+3\n",
    "    h=np.array([1,a])\n",
    "    y=np.sign(np.random.randn(N,1))\n",
    "    y=np.reshape(y,len(y))\n",
    "    t=np.arange(N)\n",
    "    z=np.convolve(h,y)\n",
    "    z=z[1:N-1]\n",
    "    y=y[2:N-1]\n",
    "    X=np.array([z[0:N-3],z[1:N-2]])+0.2*np.random.randn(2,N-3)\n",
    "    return X,y\n",
    "X,y=data(100,1.5)\n",
    "\n",
    "ind1=np.where(y==1)\n",
    "ind2=np.where(y==-1)\n",
    "plt.plot(X[0,ind1],X[1,ind1],'bs')\n",
    "plt.plot(X[0,ind2],X[1,ind2],'r*')\n",
    "plt.xlabel('$x[n-1]$')\n",
    "plt.ylabel('$x [n]$')\n",
    "plt.show()"
   ]
  }
 ],
 "metadata": {
  "interpreter": {
   "hash": "a5203b99a4aae64bb8f2d1e38b09bc6de956cbb67603af2b36e9f2835c9586bb"
  },
  "kernelspec": {
   "display_name": "Python 3.9.7 64-bit ('base': conda)",
   "name": "python3"
  },
  "language_info": {
   "codemirror_mode": {
    "name": "ipython",
    "version": 3
   },
   "file_extension": ".py",
   "mimetype": "text/x-python",
   "name": "python",
   "nbconvert_exporter": "python",
   "pygments_lexer": "ipython3",
   "version": "3.9.7"
  },
  "orig_nbformat": 2
 },
 "nbformat": 4,
 "nbformat_minor": 2
}
