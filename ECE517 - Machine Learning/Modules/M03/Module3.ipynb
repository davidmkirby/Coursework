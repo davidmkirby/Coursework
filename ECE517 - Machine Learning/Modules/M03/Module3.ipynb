{
 "metadata": {
  "language_info": {
   "codemirror_mode": {
    "name": "ipython",
    "version": 3
   },
   "file_extension": ".py",
   "mimetype": "text/x-python",
   "name": "python",
   "nbconvert_exporter": "python",
   "pygments_lexer": "ipython3",
   "version": "3.8.5-final"
  },
  "orig_nbformat": 2,
  "kernelspec": {
   "name": "python38564bitf281639284ca428d910e415fcea6596f",
   "display_name": "Python 3.8.5 64-bit"
  }
 },
 "nbformat": 4,
 "nbformat_minor": 2,
 "cells": [
  {
   "cell_type": "code",
   "execution_count": 23,
   "metadata": {},
   "outputs": [],
   "source": [
    "import numpy as np\n",
    "import numpy.matlib as matlib\n",
    "import matplotlib.pyplot as plt\n",
    "\n",
    "def data(N,sigma):\n",
    "    w=np.ones(10)/np.sqrt(10)\n",
    "    w1=[1., 1., 1., 1., 1., -1., -1., -1., -1., -1.]/np.sqrt(10)\n",
    "    w2=[-1., -1., 0, 1., 1., -1., -1., 0, -1., -1.]/np.sqrt(8) \n",
    "    x=np.zeros((4,10))\n",
    "    x[1,:]=x[0,:]+sigma*w1\n",
    "    x[2,:]=x[0,:]+sigma*w2\n",
    "    x[3,:]=x[2,:]+sigma*w1\n",
    "    X1=x+sigma*matlib.repmat(w,4,1)/2\n",
    "    X2=x-sigma*matlib.repmat(w,4,1)/2\n",
    "    X1=matlib.repmat(X1,2*N,1)\n",
    "    X2=matlib.repmat(X2,2*N,1)\n",
    "    X=np.concatenate((X1, X2), axis=0)\n",
    "    Y=np.concatenate((np.ones(4*2*N), -np.ones(4*2*N)),axis=0)\n",
    "    Z=np.random.permutation(16*N)\n",
    "    Z=Z[:N]\n",
    "    X=X[Z,:]\n",
    "    X=X+0.2*sigma*np.random.randn(N,10)\n",
    "    Y=Y[Z]\n",
    "    return X,Y\n",
    "    X,Y=data(100,1)\n",
    "    plt.plot(X, Y)\n",
    "    plt.show()"
   ]
  },
  {
   "cell_type": "code",
   "execution_count": null,
   "metadata": {},
   "outputs": [],
   "source": []
  }
 ]
}