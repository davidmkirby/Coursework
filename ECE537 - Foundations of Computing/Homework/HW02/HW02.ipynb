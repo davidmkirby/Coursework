{
 "cells": [
  {
   "cell_type": "markdown",
   "source": [
    "# ECE 537: Foundations of Computing\n",
    "\n",
    "## Homework #2: Hire-Assistant with Random Sort\n",
    "Take $ n = 8 $\n",
    "\n",
    "Write a program that\n",
    "* selects k = 23 numbers out of A = <1, 2, ..., 365>\n",
    "* checks if these 23 numbers are all different\n",
    "* keep a tally of those with coincidences, T\n",
    "\n",
    "Repeat this 1000 times. \n",
    "\n",
    "Compute $ \\frac{T_1 + T_2 + ... T_{1000}}{1000} \\approx P(\\text{at least one coincidence}) $"
   ],
   "metadata": {}
  },
  {
   "cell_type": "code",
   "execution_count": 39,
   "source": [
    "K, n = 1, 8\n",
    "\n",
    "numTrials = 1000\n",
    "\n",
    "count = 0\n",
    "\n",
    "for i in range(numTrials):\n",
    "    trial = randint(n, size=K)  # returns a vector of K randomly selected numbers from 0 to n-1\n",
    "    count += (unique(trial).size == K)  # unique(trial) returns a vector with the unique values of trial\n",
    "phat = 1 - (count / numTrials)\n",
    "print(phat)"
   ],
   "outputs": [
    {
     "output_type": "stream",
     "name": "stdout",
     "text": [
      "0.50669\n"
     ]
    }
   ],
   "metadata": {}
  },
  {
   "cell_type": "code",
   "execution_count": 31,
   "source": [
    "from numpy.random import randint\n",
    "from numpy import unique\n",
    "from math import sqrt\n",
    "\n",
    "k_list = range(1,23)\n",
    "\n",
    "n = 365\n",
    "for k in k_list:\n",
    "    numtrials = 100000\n",
    "    \n",
    "    count = 0\n",
    "    for i in range(numtrials):\n",
    "        trial = randint(n, size=k)  # returns a vector of K randomly selected numbers from 0 to n-1 \n",
    "        count += (unique(trial).size == k)  # unique(trial) returns a vector with the unique values of trial\n",
    "    phat = count/numtrials\n",
    "    std = 1.0/sqrt(2*numtrials)\n",
    "    \n",
    "    print('K:' + str(k))\n",
    "    print(phat)\n",
    "    print('')"
   ],
   "outputs": [
    {
     "output_type": "stream",
     "name": "stdout",
     "text": [
      "K:1\n",
      "1.0\n",
      "\n",
      "K:2\n",
      "0.99718\n",
      "\n",
      "K:3\n",
      "0.99132\n",
      "\n",
      "K:4\n",
      "0.98404\n",
      "\n",
      "K:5\n",
      "0.9735\n",
      "\n",
      "K:6\n",
      "0.95996\n",
      "\n",
      "K:7\n",
      "0.94395\n",
      "\n",
      "K:8\n",
      "0.92708\n",
      "\n",
      "K:9\n",
      "0.90556\n",
      "\n",
      "K:10\n",
      "0.88217\n",
      "\n",
      "K:11\n",
      "0.86067\n",
      "\n",
      "K:12\n",
      "0.83264\n",
      "\n",
      "K:13\n",
      "0.80499\n",
      "\n",
      "K:14\n",
      "0.77857\n",
      "\n",
      "K:15\n",
      "0.74575\n",
      "\n",
      "K:16\n",
      "0.71687\n",
      "\n",
      "K:17\n",
      "0.68218\n",
      "\n",
      "K:18\n",
      "0.65374\n",
      "\n",
      "K:19\n",
      "0.61827\n",
      "\n",
      "K:20\n",
      "0.58924\n",
      "\n",
      "K:21\n",
      "0.55549\n",
      "\n",
      "K:22\n",
      "0.52558\n",
      "\n"
     ]
    }
   ],
   "metadata": {}
  },
  {
   "cell_type": "code",
   "execution_count": 40,
   "source": [
    "n = 687\n",
    "    \n",
    "for k in [5,10,15,20,25,30,35,40,45,50]:\n",
    "    numtrials = 10000\n",
    "    \n",
    "    count = 0\n",
    "    for i in range(numtrials):\n",
    "        trial = randint(n, size=k)\n",
    "        count += (unique(trial).size == k)\n",
    "    phat = count/numtrials\n",
    "    std = 1.0/sqrt(2*numtrials)\n",
    "    \n",
    "    print('K:' + str(k))\n",
    "    print(phat)\n",
    "    print('')"
   ],
   "outputs": [
    {
     "output_type": "stream",
     "name": "stdout",
     "text": [
      "K:5\n",
      "0.9868\n",
      "\n",
      "K:10\n",
      "0.9353\n",
      "\n",
      "K:15\n",
      "0.8607\n",
      "\n",
      "K:20\n",
      "0.7531\n",
      "\n",
      "K:25\n",
      "0.6374\n",
      "\n",
      "K:30\n",
      "0.5318\n",
      "\n",
      "K:35\n",
      "0.399\n",
      "\n",
      "K:40\n",
      "0.3136\n",
      "\n",
      "K:45\n",
      "0.2338\n",
      "\n",
      "K:50\n",
      "0.1587\n",
      "\n"
     ]
    }
   ],
   "metadata": {}
  }
 ],
 "metadata": {
  "interpreter": {
   "hash": "e52827a5f3e81ad895cbb2a43a7c27ae3925b6ea08b951e2c7bc8efd8f94caa9"
  },
  "kernelspec": {
   "name": "python3",
   "display_name": "Python 3.9.7 64-bit ('mambaforge': virtualenv)"
  },
  "language_info": {
   "name": "python",
   "version": "3.9.6",
   "mimetype": "text/x-python",
   "codemirror_mode": {
    "name": "ipython",
    "version": 3
   },
   "pygments_lexer": "ipython3",
   "nbconvert_exporter": "python",
   "file_extension": ".py"
  }
 },
 "nbformat": 4,
 "nbformat_minor": 2
}