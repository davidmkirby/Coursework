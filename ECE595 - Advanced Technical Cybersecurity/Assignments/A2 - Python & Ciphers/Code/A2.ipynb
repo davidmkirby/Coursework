{
 "cells": [
  {
   "cell_type": "markdown",
   "metadata": {},
   "source": [
    "### Assignment 2.1\n",
    "\n",
    "Welcome to your first assignment! For this assignment, I want you to write a program that converts the string __snakety snake snake__ into __SnAkEtY_SnAkE_SnAkE__. Each word in the new string starts with an upper case letter, and alternates upper and lower case. Each space is replaced by an underscore. When I run the program, it should print the second string. Please just submit a single file Python 3 program structured using the `if __name__ == 'main':` structure I described."
   ]
  },
  {
   "cell_type": "code",
   "execution_count": 1,
   "metadata": {},
   "outputs": [
    {
     "name": "stdout",
     "output_type": "stream",
     "text": [
      "SnAkEtY_SnAkE_SnAkE\n"
     ]
    }
   ],
   "source": [
    "def function():\n",
    "    old = 'snakety snake snake'\n",
    "\n",
    "    new = ''\n",
    "    for c in range(len(old)):\n",
    "        if not c % 2:\n",
    "            new = new + old[c].upper()\n",
    "        else:\n",
    "            new = new + old[c].lower()\n",
    "    print(new.replace(\" \", \"_\"))\n",
    "\n",
    "if __name__ == '__main__':\n",
    "        function()"
   ]
  },
  {
   "cell_type": "code",
   "execution_count": 193,
   "metadata": {},
   "outputs": [
    {
     "name": "stdout",
     "output_type": "stream",
     "text": [
      "Plaintext message: testing\n",
      "Encrypted message: HVOCPPINEXEY FMOJDKPUXQIWLPGPXNCJVIJZDXHVOCPPINEXEY FMOJDKPUXQIWLPGPXNC\n",
      "Decrypted message: TESTING\n"
     ]
    }
   ],
   "source": [
    "import itertools as it\n",
    "import random as r\n",
    "\n",
    "letters = list(map(chr, range(65, 91)))\n",
    "letters.append(' ')\n",
    "\n",
    "plaintext = input(\"Please enter your plaintext: \")\n",
    "# plaintext = \"macaroni\"\n",
    "\n",
    "### Generate salt\n",
    "salt = ''\n",
    "random_salt_length = r.randint(32,32)\n",
    "while len(salt) != random_salt_length:\n",
    "    salt += r.choice(letters)\n",
    "\n",
    "### Implement Caesar cipher\n",
    "spaces_to_shift = 17\n",
    "shifted_letters = [\n",
    "    letters[(idx + spaces_to_shift) % len(letters)] \n",
    "    for idx, x \n",
    "    in enumerate(letters)\n",
    "]\n",
    "\n",
    "def encipher_decipher(message, decryption_key, encryption_key):\n",
    "    upper_plaintext = plaintext.upper()\n",
    "    upper_salt = salt.upper()\n",
    "    \n",
    "    print('Plaintext message: {}'.format(''.join(plaintext)))\n",
    "\n",
    "    ciphertext = [encryption_key[x] for x in upper_salt + upper_plaintext + upper_salt]\n",
    "    print('Encrypted message: {}'.format(''.join(ciphertext)))\n",
    "\n",
    "    decrypted_plaintext = [decryption_key[x] for x in ciphertext[len(upper_salt):len(upper_plaintext + upper_salt)]]\n",
    "    print('Decrypted message: {}'.format(''.join(decrypted_plaintext)))\n",
    "    # print(\"({}) {} : {}\".format(plaintext, ''.join(ciphertext), ''.join(decrypted_plaintext)))\n",
    "\n",
    "def create_keys(symbols, key_symbols):\n",
    "    return (\n",
    "        dict(it.zip_longest(symbols, key_symbols)),\n",
    "        dict(it.zip_longest(key_symbols, symbols))\n",
    "    )\n",
    "\n",
    "encryption_key, decryption_key = create_keys(symbols=letters, key_symbols=shifted_letters)\n",
    "\n",
    "if __name__ == '__main__':\n",
    "    encipher_decipher(message=plaintext, decryption_key=decryption_key, encryption_key=encryption_key)"
   ]
  },
  {
   "cell_type": "code",
   "execution_count": 15,
   "metadata": {},
   "outputs": [
    {
     "name": "stdout",
     "output_type": "stream",
     "text": [
      "<=== (<class 'simple_ciphers.Vigenere'>)\n",
      "Blocked ciphertext\t UHAPOUZCHARVDDCJXEPTDTGLRRPNMM\n",
      "Non-blocked ciphertext\t BZSWGASCSMXWBWCSCBMRUWCWYOW\n",
      "===>\n",
      "<=== (<class 'simple_ciphers.Bifid'>)\n",
      "Blocked ciphertext\t PHMQVPABEMAZPGQKQITMIAPFZFGWME\n",
      "Non-blocked ciphertext\t WTTNZCVXLPHSEPRDZIWTHSNGCHR\n",
      "===>\n",
      "<=== (<class 'simple_ciphers.Vigenere'>)\n",
      "Blocked ciphertext\t WJCRQWBEJCTXFFELZGRVFVINTTRPOO\n",
      "Non-blocked ciphertext\t BZSWGASCSMXWBWCSCBMRUWCWYOW\n",
      "===>\n",
      "<=== (<class 'simple_ciphers.Bifid'>)\n",
      "Blocked ciphertext\t XCRGTGIPNFRQUTNBNHLLLVNMXSKWIU\n",
      "Non-blocked ciphertext\t WTTNZCVXLPHSEPRDZIWTHSNGCHR\n",
      "===>\n"
     ]
    }
   ],
   "source": [
    "import simple_ciphers as sc\n",
    "\n",
    "def apply_cipher(cipher, plaintext, iv=''):\n",
    "    plaintext = plaintext.upper().strip().replace(' ', '')\n",
    "    \n",
    "    \n",
    "    slices = [plaintext[i:i+5] for i in range(0, len(plaintext), 5)]\n",
    "    slices = [slice if len(slice) == 5 else slice + 'X' * (5 - len(slice)) for slice in slices]\n",
    "    \n",
    "    # enciphered_iv = sc.Vigenere(iv.upper())\n",
    "    enciphered_iv = sc.Vigenere(iv.upper()).encipher(slices[0])\n",
    "    \n",
    "    c_1 = cipher.encipher(sc.Vigenere(enciphered_iv).encipher(slices[0]))\n",
    "    slices = slices[1:len(slices)]\n",
    "    enciphered_slices = []\n",
    "    enciphered_slices.append(c_1)\n",
    "    enciphered_slice = c_1\n",
    "    for i, slice in enumerate(slices):\n",
    "        # Encipher a new slice using the ciphertext of the previous operation\n",
    "        # as the key to the embedded cipher\n",
    "        enciphered_slice = cipher.encipher(sc.Vigenere(enciphered_slice).encipher(slice))\n",
    "        \n",
    "        # Append the newly enciphered slice\n",
    "        enciphered_slices.append(enciphered_slice)\n",
    "    \n",
    "    \n",
    "    #enciphered_slices = [cipher.encipher(iv + slice) for slice in slices]\n",
    "    print('<=== ({})'.format(type(cipher)))\n",
    "    print('Blocked ciphertext\\t {}'.format(''.join(enciphered_slices)))\n",
    "    print('Non-blocked ciphertext\\t {}'.format(cipher.encipher(plaintext)))\n",
    "    print('===>')\n",
    "\n",
    "plaintext = 'This is a sooper sekkrit message'\n",
    "vigenere = sc.Vigenere('iskey')\n",
    "bifid = sc.Bifid()\n",
    "\n",
    "iv = 'ab'\n",
    "apply_cipher(cipher=vigenere, plaintext=plaintext, iv=iv)\n",
    "apply_cipher(cipher=bifid, plaintext=plaintext, iv=iv)\n",
    "\n",
    "iv = 'cd'\n",
    "apply_cipher(cipher=vigenere, plaintext=plaintext, iv=iv)\n",
    "apply_cipher(cipher=bifid, plaintext=plaintext, iv=iv)\n"
   ]
  },
  {
   "cell_type": "code",
   "execution_count": 20,
   "metadata": {},
   "outputs": [
    {
     "name": "stdout",
     "output_type": "stream",
     "text": [
      "<=== (<class 'simple_ciphers.Vigenere'>)\n",
      "Blocked ciphertext\t JSAPOILKLUFPJPKAVJFZCPKPGWPPUD\n",
      "Non-blocked ciphertext\t BZSWGASCSMXWBWCSCBMRUWCWYOW\n",
      "===>\n",
      "<=== (<class 'simple_ciphers.Bifid'>)\n",
      "Blocked ciphertext\t PSSYVFDBAHCLCPRDNGWTCXNHZBDXMZ\n",
      "Non-blocked ciphertext\t WTTNZCVXLPHSEPRDZIWTHSNGCHR\n",
      "===>\n",
      "<=== (<class 'simple_ciphers.Vigenere'>)\n",
      "Blocked ciphertext\t LUCRQKNMNWHRLRMCXLHBERMRIYRRWF\n",
      "Non-blocked ciphertext\t BZSWGASCSMXWBWCSCBMRUWCWYOW\n",
      "===>\n",
      "<=== (<class 'simple_ciphers.Bifid'>)\n",
      "Blocked ciphertext\t DOOYDAEIKIXPZNKKPFIRGECNDTSCLX\n",
      "Non-blocked ciphertext\t WTTNZCVXLPHSEPRDZIWTHSNGCHR\n",
      "===>\n"
     ]
    }
   ],
   "source": [
    "# This is an implementation of the Output Feedback mode which sends the enciphered\n",
    "# IV output as feedback for subsequent slices. This means the IV gets re-enciphered\n",
    "# each slice and does not get used twice. Example block diagram show here:\n",
    "# https://media.geeksforgeeks.org/wp-content/uploads/output-feedback-mode.png\n",
    "\n",
    "import simple_ciphers as sc\n",
    "\n",
    "def apply_cipher(cipher, plaintext, iv=''):\n",
    "    plaintext = plaintext.upper().strip().replace(' ', '')\n",
    "    \n",
    "    \n",
    "    slices = [plaintext[i:i+5] for i in range(0, len(plaintext), 5)]\n",
    "    slices = [slice if len(slice) == 5 else slice + 'X' * (5 - len(slice)) for slice in slices]\n",
    "    \n",
    "    # Encipher the IV and use it as feedback for the next slice\n",
    "    enciphered_iv = cipher.encipher(iv.upper())\n",
    "    \n",
    "    # Encipher the plaintext block with the ciphered IV so that essentially the IV is\n",
    "    # re-enciphered each time and never use the same IV twice.\n",
    "    enciphered_slices = [cipher.encipher(sc.Vigenere(enciphered_iv).encipher(slice)) for slice in slices]\n",
    "    \n",
    "    print('<=== ({})'.format(type(cipher)))\n",
    "    print('Blocked ciphertext\\t {}'.format(''.join(enciphered_slices)))\n",
    "    print('Non-blocked ciphertext\\t {}'.format(cipher.encipher(plaintext)))\n",
    "    print('===>')\n",
    "\n",
    "plaintext = 'This is a sooper sekkrit message'\n",
    "vigenere = sc.Vigenere('iskey')\n",
    "bifid = sc.Bifid()\n",
    "\n",
    "iv = 'ab'\n",
    "apply_cipher(cipher=vigenere, plaintext=plaintext, iv=iv)\n",
    "apply_cipher(cipher=bifid, plaintext=plaintext, iv=iv)\n",
    "\n",
    "iv = 'cd'\n",
    "apply_cipher(cipher=vigenere, plaintext=plaintext, iv=iv)\n",
    "apply_cipher(cipher=bifid, plaintext=plaintext, iv=iv)\n"
   ]
  }
 ],
 "metadata": {
  "interpreter": {
   "hash": "bc572536a2de05c98717f1e2b927ffe8ea5ce17981cd85ee41ed634b5fbf0d9b"
  },
  "kernelspec": {
   "display_name": "Python 3.10.4 ('ece595')",
   "language": "python",
   "name": "python3"
  },
  "language_info": {
   "codemirror_mode": {
    "name": "ipython",
    "version": 3
   },
   "file_extension": ".py",
   "mimetype": "text/x-python",
   "name": "python",
   "nbconvert_exporter": "python",
   "pygments_lexer": "ipython3",
   "version": "3.10.4"
  },
  "orig_nbformat": 4
 },
 "nbformat": 4,
 "nbformat_minor": 2
}
